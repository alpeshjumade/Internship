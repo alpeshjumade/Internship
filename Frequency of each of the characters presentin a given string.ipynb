{
 "cells": [
  {
   "cell_type": "code",
   "execution_count": 2,
   "id": "50d059fc",
   "metadata": {},
   "outputs": [
    {
     "name": "stdout",
     "output_type": "stream",
     "text": [
      "Characters and their corresponding frequencies\n",
      "A-1\n",
      "l-1\n",
      "p-1\n",
      "e-2\n",
      "s-1\n",
      "h-1\n",
      "D-1\n",
      "a-4\n",
      "t-3\n",
      "r-1\n",
      "y-1\n",
      "J-1\n",
      "u-1\n",
      "m-1\n",
      "d-1\n"
     ]
    }
   ],
   "source": [
    "string = \"AlpeshDattatrayJumade\";  \n",
    "freq = [None] * len(string);  \n",
    "   \n",
    "for i in range(0, len(string)):  \n",
    "    freq[i] = 1;  \n",
    "    for j in range(i+1, len(string)):  \n",
    "        if(string[i] == string[j]):  \n",
    "            freq[i] = freq[i] + 1;  \n",
    "              \n",
    "            #Set string[j] to 0 to avoid printing visited character  \n",
    "            string = string[ : j] + '0' + string[j+1 : ];  \n",
    "              \n",
    "#Displays the each character and their corresponding frequency  \n",
    "print(\"Characters and their corresponding frequencies\");  \n",
    "for i in range(0, len(freq)):  \n",
    "    if(string[i] != ' ' and string[i] != '0'):  \n",
    "        print(string[i] + \"-\" + str(freq[i]));  "
   ]
  },
  {
   "cell_type": "code",
   "execution_count": null,
   "id": "1dec3046",
   "metadata": {},
   "outputs": [],
   "source": []
  }
 ],
 "metadata": {
  "kernelspec": {
   "display_name": "Python 3 (ipykernel)",
   "language": "python",
   "name": "python3"
  },
  "language_info": {
   "codemirror_mode": {
    "name": "ipython",
    "version": 3
   },
   "file_extension": ".py",
   "mimetype": "text/x-python",
   "name": "python",
   "nbconvert_exporter": "python",
   "pygments_lexer": "ipython3",
   "version": "3.9.7"
  }
 },
 "nbformat": 4,
 "nbformat_minor": 5
}
